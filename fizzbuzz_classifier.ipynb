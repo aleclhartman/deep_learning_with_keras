{
 "cells": [
  {
   "cell_type": "markdown",
   "metadata": {},
   "source": [
    "# Problem Solving Steps\n",
    "1. Write out problem statement\n",
    "2. Ask clarifying questions pertaining to problem\n",
    "3. Re-state your understanding of the problem, and confirm your understanding of the problem"
   ]
  },
  {
   "cell_type": "markdown",
   "metadata": {},
   "source": [
    "## FizzBuzz"
   ]
  },
  {
   "cell_type": "code",
   "execution_count": 1,
   "metadata": {},
   "outputs": [],
   "source": [
    "def fizzbuzz(x):\n",
    "    if (x % 3 == 0) & (x % 5 == 0):\n",
    "        return \"FizzBuzz\"\n",
    "    elif x % 3 == 0:\n",
    "        return \"Fizz\"\n",
    "    elif x % 5 == 0:\n",
    "        return \"Buzz\"\n",
    "    else:\n",
    "        return x"
   ]
  },
  {
   "cell_type": "code",
   "execution_count": 2,
   "metadata": {},
   "outputs": [],
   "source": [
    "for i in range(1, 101):\n",
    "    print(fizzbuzz(i))"
   ]
  },
  {
   "cell_type": "code",
   "execution_count": 3,
   "metadata": {},
   "outputs": [],
   "source": [
    "# classifying numbers as fizzbuzz is the goal; "
   ]
  },
  {
   "cell_type": "markdown",
   "metadata": {},
   "source": [
    "## Keras Workflow\n",
    "1. Setup training data\n",
    "2. Setup labels\n",
    "3. Encode inputs\n",
    "4. Write a decoder for the outputs\n",
    "5. Build a model, fit/train on training data\n",
    "6. Evaluate the model on test data\n",
    "7. We can use .predict_classes on out-of-sample data to make predictions"
   ]
  },
  {
   "cell_type": "code",
   "execution_count": 4,
   "metadata": {},
   "outputs": [
    {
     "name": "stderr",
     "output_type": "stream",
     "text": [
      "Using TensorFlow backend.\n"
     ]
    }
   ],
   "source": [
    "import warnings\n",
    "warnings.filterwarnings('ignore')\n",
    "\n",
    "# imports\n",
    "import numpy as np\n",
    "np.random.seed(23)\n",
    "from keras.models import Sequential\n",
    "from keras.layers import Dense\n",
    "from keras.utils import np_utils\n",
    "from keras.models import Model"
   ]
  },
  {
   "cell_type": "code",
   "execution_count": 5,
   "metadata": {},
   "outputs": [],
   "source": [
    "# specify the number of binary digits, variable so we can change it\n",
    "num_digits = 12"
   ]
  },
  {
   "cell_type": "code",
   "execution_count": 6,
   "metadata": {},
   "outputs": [],
   "source": [
    "# let's setup out training data\n",
    "# raw_training_data = np.arange(101, 2**num_digits)\n",
    "raw_training_data = np.random.randint(101, 2**num_digits, 2**num_digits - 102)"
   ]
  },
  {
   "cell_type": "code",
   "execution_count": 7,
   "metadata": {},
   "outputs": [
    {
     "data": {
      "text/plain": [
       "array([ 696,  843, 1165, 2094, 3099, 1613, 2180, 2386, 3633,  448])"
      ]
     },
     "execution_count": 7,
     "metadata": {},
     "output_type": "execute_result"
    }
   ],
   "source": [
    "raw_training_data[:10]"
   ]
  },
  {
   "cell_type": "code",
   "execution_count": 8,
   "metadata": {},
   "outputs": [],
   "source": [
    "# one hot encode fizzbuzz\n",
    "def encode_fizzbuzz(x):\n",
    "    \"\"\"OHE fizzbuzz:\n",
    "    \n",
    "    [0, 0, 0, 1] == FizzBuzz\n",
    "    [0, 0, 1, 0] == Fizz\n",
    "    [0, 1, 0, 0] == Buzz\n",
    "    [1, 0, 0, 0] == number not FizzBuzz, Fizz, or Buzz\"\"\"\n",
    "    \n",
    "    if (x % 3 == 0) & (x % 5 == 0):\n",
    "        return np.array([0, 0, 0, 1]) # encoding for \"FizzBuzz\"\n",
    "    elif x % 5 == 0: \n",
    "        return np.array([0, 0, 1, 0]) # encoding for \"Buzz\"\n",
    "    elif x % 3  == 0: \n",
    "        return np.array([0, 1, 0, 0]) # encoding for \"Fizz\"\n",
    "    else:\n",
    "        return np.array([1, 0, 0, 0]) # encoding for the number output"
   ]
  },
  {
   "cell_type": "code",
   "execution_count": 9,
   "metadata": {},
   "outputs": [],
   "source": [
    "# needs two inputs b/c we have the one hot encoding but we also need the number itself\n",
    "# def decode_fizzbuzz(one_hot_fizzbuzz, i):\n",
    "#     return [\"FizzBuzz\", \"Fizz\", \"Buzz\", str(i)][one_hot_fizzbuzz]"
   ]
  },
  {
   "cell_type": "code",
   "execution_count": 10,
   "metadata": {},
   "outputs": [],
   "source": [
    "# binary encode function\n",
    "def binary_encode(i, NUM_DIGITS):\n",
    "    return np.array([i >> d & 1 for d in range(NUM_DIGITS)])"
   ]
  },
  {
   "cell_type": "code",
   "execution_count": 11,
   "metadata": {},
   "outputs": [],
   "source": [
    "# convert from binary to fizzbuzz output\n",
    "def decode_fizzbuzz(i, prediction):\n",
    "    return [str(i), \"Fizz\", \"Buzz\", \"FizzBuzz\"][prediction]"
   ]
  },
  {
   "cell_type": "code",
   "execution_count": 12,
   "metadata": {},
   "outputs": [],
   "source": [
    "encoded_training_data = np.array([binary_encode(i, num_digits) for i in raw_training_data])"
   ]
  },
  {
   "cell_type": "code",
   "execution_count": 13,
   "metadata": {},
   "outputs": [],
   "source": [
    "x_train = encoded_training_data\n",
    "y_train = np.array([encode_fizzbuzz(i) for i in raw_training_data])"
   ]
  },
  {
   "cell_type": "code",
   "execution_count": 14,
   "metadata": {},
   "outputs": [
    {
     "name": "stdout",
     "output_type": "stream",
     "text": [
      "696\n",
      "[0 0 0 1 1 1 0 1 0 1 0 0]\n",
      "[0 1 0 0]\n"
     ]
    }
   ],
   "source": [
    "print(raw_training_data[0])\n",
    "print(x_train[0])\n",
    "print(y_train[0])"
   ]
  },
  {
   "cell_type": "code",
   "execution_count": 15,
   "metadata": {},
   "outputs": [],
   "source": [
    "model = Sequential()"
   ]
  },
  {
   "cell_type": "code",
   "execution_count": 16,
   "metadata": {},
   "outputs": [],
   "source": [
    "model.add(Dense(1000, input_dim=num_digits, activation=\"relu\"))\n",
    "model.add(Dense(1000, activation=\"relu\"))\n",
    "\n",
    "model.add(Dense(4, activation=\"softmax\"))"
   ]
  },
  {
   "cell_type": "code",
   "execution_count": 17,
   "metadata": {},
   "outputs": [
    {
     "name": "stdout",
     "output_type": "stream",
     "text": [
      "Model: \"sequential_1\"\n",
      "_________________________________________________________________\n",
      "Layer (type)                 Output Shape              Param #   \n",
      "=================================================================\n",
      "dense_1 (Dense)              (None, 1000)              13000     \n",
      "_________________________________________________________________\n",
      "dense_2 (Dense)              (None, 1000)              1001000   \n",
      "_________________________________________________________________\n",
      "dense_3 (Dense)              (None, 4)                 4004      \n",
      "=================================================================\n",
      "Total params: 1,018,004\n",
      "Trainable params: 1,018,004\n",
      "Non-trainable params: 0\n",
      "_________________________________________________________________\n"
     ]
    }
   ],
   "source": [
    "model.summary()"
   ]
  },
  {
   "cell_type": "code",
   "execution_count": 18,
   "metadata": {},
   "outputs": [],
   "source": [
    "model.compile(loss=\"categorical_crossentropy\", optimizer=\"adagrad\", metrics=[\"accuracy\"])"
   ]
  },
  {
   "cell_type": "code",
   "execution_count": 19,
   "metadata": {},
   "outputs": [
    {
     "name": "stdout",
     "output_type": "stream",
     "text": [
      "Epoch 1/30\n",
      "3994/3994 [==============================] - 1s 257us/step - loss: 1.3320 - accuracy: 0.4977\n",
      "Epoch 2/30\n",
      "3994/3994 [==============================] - 0s 120us/step - loss: 1.1436 - accuracy: 0.5260\n",
      "Epoch 3/30\n",
      "3994/3994 [==============================] - 0s 121us/step - loss: 1.1334 - accuracy: 0.5280\n",
      "Epoch 4/30\n",
      "3994/3994 [==============================] - 0s 120us/step - loss: 1.1119 - accuracy: 0.5320\n",
      "Epoch 5/30\n",
      "3994/3994 [==============================] - 0s 118us/step - loss: 1.0903 - accuracy: 0.5371\n",
      "Epoch 6/30\n",
      "3994/3994 [==============================] - 0s 121us/step - loss: 1.0588 - accuracy: 0.5461\n",
      "Epoch 7/30\n",
      "3994/3994 [==============================] - 0s 122us/step - loss: 1.0203 - accuracy: 0.5566\n",
      "Epoch 8/30\n",
      "3994/3994 [==============================] - 0s 120us/step - loss: 0.9738 - accuracy: 0.5794\n",
      "Epoch 9/30\n",
      "3994/3994 [==============================] - 0s 122us/step - loss: 0.9163 - accuracy: 0.6079\n",
      "Epoch 10/30\n",
      "3994/3994 [==============================] - 0s 121us/step - loss: 0.8452 - accuracy: 0.6485\n",
      "Epoch 11/30\n",
      "3994/3994 [==============================] - 1s 127us/step - loss: 0.7730 - accuracy: 0.7026\n",
      "Epoch 12/30\n",
      "3994/3994 [==============================] - 1s 140us/step - loss: 0.6927 - accuracy: 0.7471\n",
      "Epoch 13/30\n",
      "3994/3994 [==============================] - 1s 149us/step - loss: 0.6078 - accuracy: 0.8005\n",
      "Epoch 14/30\n",
      "3994/3994 [==============================] - 1s 154us/step - loss: 0.5410 - accuracy: 0.8300\n",
      "Epoch 15/30\n",
      "3994/3994 [==============================] - 1s 157us/step - loss: 0.4834 - accuracy: 0.8630\n",
      "Epoch 16/30\n",
      "3994/3994 [==============================] - 1s 155us/step - loss: 0.4102 - accuracy: 0.8933\n",
      "Epoch 17/30\n",
      "3994/3994 [==============================] - 1s 155us/step - loss: 0.3481 - accuracy: 0.9234\n",
      "Epoch 18/30\n",
      "3994/3994 [==============================] - 1s 150us/step - loss: 0.3031 - accuracy: 0.9397\n",
      "Epoch 19/30\n",
      "3994/3994 [==============================] - 1s 143us/step - loss: 0.2693 - accuracy: 0.9449\n",
      "Epoch 20/30\n",
      "3994/3994 [==============================] - 1s 144us/step - loss: 0.2471 - accuracy: 0.9509\n",
      "Epoch 21/30\n",
      "3994/3994 [==============================] - 1s 143us/step - loss: 0.1962 - accuracy: 0.9762\n",
      "Epoch 22/30\n",
      "3994/3994 [==============================] - 1s 146us/step - loss: 0.1840 - accuracy: 0.9742\n",
      "Epoch 23/30\n",
      "3994/3994 [==============================] - 1s 145us/step - loss: 0.1490 - accuracy: 0.9865\n",
      "Epoch 24/30\n",
      "3994/3994 [==============================] - 1s 143us/step - loss: 0.1339 - accuracy: 0.9895\n",
      "Epoch 25/30\n",
      "3994/3994 [==============================] - 1s 147us/step - loss: 0.1178 - accuracy: 0.9917\n",
      "Epoch 26/30\n",
      "3994/3994 [==============================] - 1s 147us/step - loss: 0.1059 - accuracy: 0.9925\n",
      "Epoch 27/30\n",
      "3994/3994 [==============================] - 1s 146us/step - loss: 0.0955 - accuracy: 0.9925\n",
      "Epoch 28/30\n",
      "3994/3994 [==============================] - 1s 146us/step - loss: 0.0843 - accuracy: 0.9940\n",
      "Epoch 29/30\n",
      "3994/3994 [==============================] - 1s 145us/step - loss: 0.0770 - accuracy: 0.9950\n",
      "Epoch 30/30\n",
      "3994/3994 [==============================] - 1s 144us/step - loss: 0.0709 - accuracy: 0.9955\n"
     ]
    },
    {
     "data": {
      "text/plain": [
       "<keras.callbacks.callbacks.History at 0x7fe4fa24d250>"
      ]
     },
     "execution_count": 19,
     "metadata": {},
     "output_type": "execute_result"
    }
   ],
   "source": [
    "model.fit(x_train, y_train, nb_epoch=30, batch_size=128)"
   ]
  },
  {
   "cell_type": "code",
   "execution_count": 20,
   "metadata": {},
   "outputs": [
    {
     "data": {
      "text/plain": [
       "array([[1, 0, 0, 0, 0, 0, 0, 0, 0, 0, 0, 0],\n",
       "       [0, 1, 0, 0, 0, 0, 0, 0, 0, 0, 0, 0]])"
      ]
     },
     "execution_count": 20,
     "metadata": {},
     "output_type": "execute_result"
    }
   ],
   "source": [
    "numbers = np.arange(1, 101)\n",
    "x_test = np.transpose(binary_encode(numbers, num_digits))\n",
    "x_test[0:2]"
   ]
  },
  {
   "cell_type": "code",
   "execution_count": 21,
   "metadata": {},
   "outputs": [],
   "source": [
    "y_test = model.predict_classes(x_test)"
   ]
  },
  {
   "cell_type": "code",
   "execution_count": 22,
   "metadata": {},
   "outputs": [],
   "source": [
    "predictions = np.vectorize(decode_fizzbuzz)(numbers, y_test)"
   ]
  },
  {
   "cell_type": "code",
   "execution_count": 23,
   "metadata": {},
   "outputs": [
    {
     "data": {
      "text/plain": [
       "array(['1', '2', 'Fizz', '4', 'Buzz', 'Fizz', '7', '8', 'Fizz', 'Buzz',\n",
       "       '11', 'Fizz', '13', '14', 'FizzBuzz', '16', '17', '18', '19', '20',\n",
       "       'Fizz', '22', '23', 'Fizz', 'Buzz', '26', 'Fizz', '28', '29',\n",
       "       'FizzBuzz', '31', '32', '33', '34', 'Buzz', 'Fizz', '37', '38',\n",
       "       'Fizz', 'Buzz', '41', 'Fizz', '43', '44', 'FizzBuzz', 'Fizz', '47',\n",
       "       '48', '49', '50', 'Fizz', '52', '53', 'Fizz', 'Buzz', '56', 'Fizz',\n",
       "       '58', '59', 'FizzBuzz', '61', '62', 'Fizz', '64', 'Buzz', 'Fizz',\n",
       "       '67', '68', 'Fizz', 'Buzz', '71', 'Fizz', '73', '74', 'FizzBuzz',\n",
       "       'Fizz', '77', 'Fizz', '79', '80', 'Fizz', '82', '83', 'Fizz',\n",
       "       'Buzz', '86', 'Fizz', '88', '89', 'FizzBuzz', '91', '92', 'Fizz',\n",
       "       '94', 'Buzz', 'Fizz', '97', '98', 'Fizz', 'Buzz'], dtype='<U8')"
      ]
     },
     "execution_count": 23,
     "metadata": {},
     "output_type": "execute_result"
    }
   ],
   "source": [
    "predictions"
   ]
  },
  {
   "cell_type": "code",
   "execution_count": 24,
   "metadata": {},
   "outputs": [
    {
     "data": {
      "text/plain": [
       "array(['1', '2', 'Fizz', '4', 'Buzz', 'Fizz', '7', '8', 'Fizz', 'Buzz',\n",
       "       '11', 'Fizz', '13', '14', 'FizzBuzz', '16', '17', 'Fizz', '19',\n",
       "       'Buzz', 'Fizz', '22', '23', 'Fizz', 'Buzz', '26', 'Fizz', '28',\n",
       "       '29', 'FizzBuzz', '31', '32', 'Fizz', '34', 'Buzz', 'Fizz', '37',\n",
       "       '38', 'Fizz', 'Buzz', '41', 'Fizz', '43', '44', 'FizzBuzz', '46',\n",
       "       '47', 'Fizz', '49', 'Buzz', 'Fizz', '52', '53', 'Fizz', 'Buzz',\n",
       "       '56', 'Fizz', '58', '59', 'FizzBuzz', '61', '62', 'Fizz', '64',\n",
       "       'Buzz', 'Fizz', '67', '68', 'Fizz', 'Buzz', '71', 'Fizz', '73',\n",
       "       '74', 'FizzBuzz', '76', '77', 'Fizz', '79', 'Buzz', 'Fizz', '82',\n",
       "       '83', 'Fizz', 'Buzz', '86', 'Fizz', '88', '89', 'FizzBuzz', '91',\n",
       "       '92', 'Fizz', '94', 'Buzz', 'Fizz', '97', '98', 'Fizz', 'Buzz'],\n",
       "      dtype='<U21')"
      ]
     },
     "execution_count": 24,
     "metadata": {},
     "output_type": "execute_result"
    }
   ],
   "source": [
    "actual = np.array([fizzbuzz(x) for x in range(1, 101)])\n",
    "actual"
   ]
  },
  {
   "cell_type": "code",
   "execution_count": 25,
   "metadata": {},
   "outputs": [
    {
     "data": {
      "text/plain": [
       "0.92"
      ]
     },
     "execution_count": 25,
     "metadata": {},
     "output_type": "execute_result"
    }
   ],
   "source": [
    "(actual == predictions).mean()"
   ]
  },
  {
   "cell_type": "code",
   "execution_count": null,
   "metadata": {},
   "outputs": [],
   "source": []
  }
 ],
 "metadata": {
  "kernelspec": {
   "display_name": "Python 3",
   "language": "python",
   "name": "python3"
  },
  "language_info": {
   "codemirror_mode": {
    "name": "ipython",
    "version": 3
   },
   "file_extension": ".py",
   "mimetype": "text/x-python",
   "name": "python",
   "nbconvert_exporter": "python",
   "pygments_lexer": "ipython3",
   "version": "3.7.4"
  }
 },
 "nbformat": 4,
 "nbformat_minor": 2
}
